{
 "cells": [
  {
   "cell_type": "code",
   "execution_count": 8,
   "metadata": {},
   "outputs": [],
   "source": [
    "import pandas as pd\n",
    "import numpy as np\n",
    "import os\n",
    "import matplotlib.pyplot as plt"
   ]
  },
  {
   "cell_type": "code",
   "execution_count": 5,
   "metadata": {},
   "outputs": [],
   "source": [
    "def switch_function(dkd_switch,distill_percent,epoch):\n",
    "    total_epochs = 200\n",
    "    num_distill_epoch = int(distill_percent*total_epochs)\n",
    "    if dkd_switch == 'none': # finetune\n",
    "        return 0\n",
    "    elif dkd_switch == 'all':\n",
    "        return 1\n",
    "    elif dkd_switch == 'cycle':\n",
    "        if distill_percent < 0.5:\n",
    "            if distill_percent == 0.2:\n",
    "                if epoch % 5 == 0:\n",
    "                    return 1\n",
    "                else:\n",
    "                    return 0\n",
    "            elif distill_percent == 0.4:\n",
    "                if epoch % 5 in [1,3]:\n",
    "                    return 1\n",
    "                else:\n",
    "                    return 0\n",
    "        else:\n",
    "            if distill_percent == 0.8:\n",
    "                if epoch %  5 != 0:\n",
    "                    return 1\n",
    "                else:\n",
    "                    return 0\n",
    "            elif distill_percent == 0.6:\n",
    "                if epoch % 5 in [0,2,4]:\n",
    "                    return 1\n",
    "                else:\n",
    "                    return 0\n",
    "    elif dkd_switch == 'first':\n",
    "        if epoch < num_distill_epoch :\n",
    "            return 1\n",
    "        else:\n",
    "            return 0\n",
    "    elif dkd_switch == 'mid':\n",
    "        if (epoch >= total_epochs // 2 - num_distill_epoch // 2) and (epoch < total_epochs // 2 + num_distill_epoch // 2):\n",
    "            return 1\n",
    "        else:\n",
    "            return 0\n",
    "    elif dkd_switch == 'end':\n",
    "        if epoch >= total_epochs - num_distill_epoch:\n",
    "            return 1\n",
    "        else:\n",
    "            return 0\n",
    "    elif dkd_switch == 'first_end':\n",
    "        if (epoch < num_distill_epoch // 2) or (epoch>= total_epochs - num_distill_epoch//2):\n",
    "            return 1\n",
    "        else:\n",
    "            return 0\n",
    "    elif dkd_switch == 'ten_to_ten':\n",
    "        n_gap = num_distill_epoch // 10\n",
    "        gap = int(total_epochs * (1 - distill_percent) / n_gap)\n",
    "        ten_to_ten_list = []\n",
    "        for point in range(0,200, 10+ gap):\n",
    "            ten_to_ten_list.extend(range(point, point+10))\n",
    "        if epoch in ten_to_ten_list:\n",
    "            return 1\n",
    "        else:\n",
    "            return 0"
   ]
  },
  {
   "cell_type": "code",
   "execution_count": 69,
   "metadata": {},
   "outputs": [
    {
     "data": {
      "text/plain": [
       "40"
      ]
     },
     "execution_count": 69,
     "metadata": {},
     "output_type": "execute_result"
    }
   ],
   "source": [
    "arr = [switch_function('mid',0.2,epoch) for epoch in range(200)]\n",
    "sum(arr[80:120])\n",
    "\n",
    "[120:]\n"
   ]
  },
  {
   "cell_type": "code",
   "execution_count": 63,
   "metadata": {},
   "outputs": [
    {
     "data": {
      "text/plain": [
       "(200, 120)"
      ]
     },
     "execution_count": 63,
     "metadata": {},
     "output_type": "execute_result"
    }
   ],
   "source": [
    "len(arr2),sum((arr2))"
   ]
  },
  {
   "cell_type": "code",
   "execution_count": null,
   "metadata": {},
   "outputs": [],
   "source": []
  }
 ],
 "metadata": {
  "kernelspec": {
   "display_name": "facil",
   "language": "python",
   "name": "python3"
  },
  "language_info": {
   "codemirror_mode": {
    "name": "ipython",
    "version": 3
   },
   "file_extension": ".py",
   "mimetype": "text/x-python",
   "name": "python",
   "nbconvert_exporter": "python",
   "pygments_lexer": "ipython3",
   "version": "3.8.0"
  }
 },
 "nbformat": 4,
 "nbformat_minor": 2
}
